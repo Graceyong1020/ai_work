{
 "cells": [
  {
   "cell_type": "code",
   "execution_count": 24,
   "metadata": {},
   "outputs": [],
   "source": [
    "import numpy as np \n"
   ]
  },
  {
   "cell_type": "code",
   "execution_count": 25,
   "metadata": {},
   "outputs": [
    {
     "data": {
      "text/plain": [
       "' x_data1=np.array([1,2,3,4,5]).reshape(5,1)\\nt_data1=np.array([3,5,7,9,11]).reshape(5,1) # y=2x+1\\nprint(x_data1)\\nprint(t_data1) '"
      ]
     },
     "execution_count": 25,
     "metadata": {},
     "output_type": "execute_result"
    }
   ],
   "source": [
    "\"\"\" x_data1=np.array([1,2,3,4,5]).reshape(5,1)\n",
    "t_data1=np.array([3,5,7,9,11]).reshape(5,1) # y=2x+1\n",
    "print(x_data1)\n",
    "print(t_data1) \"\"\""
   ]
  },
  {
   "cell_type": "code",
   "execution_count": 26,
   "metadata": {},
   "outputs": [],
   "source": [
    "x_data2=np.array([[1,2],[2,3],[3,4],[4,5],[5,6]]).reshape(5,2)\n",
    "t_data2=np.array([3,5,7,9,11]).reshape(5,1) # y=2x+1\n"
   ]
  },
  {
   "cell_type": "code",
   "execution_count": 27,
   "metadata": {},
   "outputs": [
    {
     "name": "stdout",
     "output_type": "stream",
     "text": [
      "[[0.192268  ]\n",
      " [0.37824518]]\n",
      "[0.5830291]\n"
     ]
    }
   ],
   "source": [
    "w2=np.random.rand(2,1)\n",
    "b2=np.random.rand(1)\n",
    "print(w2)\n",
    "print(b2)"
   ]
  },
  {
   "cell_type": "code",
   "execution_count": 28,
   "metadata": {},
   "outputs": [
    {
     "data": {
      "text/plain": [
       "' w=np.random.rand(1,1)\\nb=np.random.rand(1)\\nprint(w)\\nprint(b) '"
      ]
     },
     "execution_count": 28,
     "metadata": {},
     "output_type": "execute_result"
    }
   ],
   "source": [
    "\"\"\" w=np.random.rand(1,1)\n",
    "b=np.random.rand(1)\n",
    "print(w)\n",
    "print(b) \"\"\""
   ]
  },
  {
   "cell_type": "code",
   "execution_count": 33,
   "metadata": {},
   "outputs": [],
   "source": [
    "def loss_func(x,t):\n",
    "    y=np.dot(x,w2)+b2\n",
    "    return np.sum((t-y)**2)/len(x)\n"
   ]
  },
  {
   "cell_type": "code",
   "execution_count": 30,
   "metadata": {},
   "outputs": [],
   "source": [
    "\n",
    "\n",
    "def numerical_derivative(f, x):\n",
    "    delta_x = 1e-4\n",
    "    grad = np.zeros_like(x)\n",
    "  \n",
    "\n",
    "    it = np.nditer(x, flags=['multi_index'], op_flags=['readwrite'])\n",
    "\n",
    "    while not it.finished:\n",
    "        idx = it.multi_index\n",
    "       \n",
    "        tmp_val = x[idx]\n",
    "        x[idx] = float(tmp_val) + delta_x\n",
    "        fx1 = f(x)\n",
    "        x[idx] = float(tmp_val) - delta_x\n",
    "        fx2 = f(x)\n",
    "        grad[idx] = (fx1 - fx2) / (2 * delta_x)\n",
    "        \n",
    "\n",
    "        x[idx] = tmp_val\n",
    "        it.iternext()\n",
    "\n",
    "    return grad"
   ]
  },
  {
   "cell_type": "code",
   "execution_count": 34,
   "metadata": {},
   "outputs": [],
   "source": [
    "def predict(x):\n",
    "    return np.dot(x,w2)+b2"
   ]
  },
  {
   "cell_type": "code",
   "execution_count": 40,
   "metadata": {},
   "outputs": [
    {
     "name": "stdout",
     "output_type": "stream",
     "text": [
      "Initial error value: 6.387960389280642e-16\n",
      "step: 0 error vale: 6.336084434727671e-16 w2: [[1.1002844 ]\n",
      " [0.89971558]] b2: [0.10028448]\n",
      "step: 100 error vale: 2.8034579061473946e-16 w2: [[1.10028441]\n",
      " [0.89971557]] b2: [0.10028446]\n",
      "step: 200 error vale: 1.240415361677345e-16 w2: [[1.10028442]\n",
      " [0.89971557]] b2: [0.10028445]\n",
      "step: 300 error vale: 5.488330199696968e-17 w2: [[1.10028443]\n",
      " [0.89971557]] b2: [0.10028445]\n",
      "step: 400 error vale: 2.4283610370390046e-17 w2: [[1.10028443]\n",
      " [0.89971557]] b2: [0.10028444]\n",
      "step: 500 error vale: 1.0744507701658318e-17 w2: [[1.10028443]\n",
      " [0.89971557]] b2: [0.10028444]\n",
      "step: 600 error vale: 4.754003307711957e-18 w2: [[1.10028443]\n",
      " [0.89971557]] b2: [0.10028444]\n",
      "step: 700 error vale: 2.103453041036647e-18 w2: [[1.10028443]\n",
      " [0.89971557]] b2: [0.10028444]\n",
      "step: 800 error vale: 9.30691659014076e-19 w2: [[1.10028443]\n",
      " [0.89971557]] b2: [0.10028444]\n",
      "step: 900 error vale: 4.1179290950409894e-19 w2: [[1.10028443]\n",
      " [0.89971557]] b2: [0.10028444]\n",
      "step: 1000 error vale: 1.8220120488943588e-19 w2: [[1.10028443]\n",
      " [0.89971557]] b2: [0.10028444]\n",
      "step: 1100 error vale: 8.061659212625381e-20 w2: [[1.10028443]\n",
      " [0.89971557]] b2: [0.10028444]\n",
      "step: 1200 error vale: 3.566959869060856e-20 w2: [[1.10028443]\n",
      " [0.89971557]] b2: [0.10028444]\n",
      "step: 1300 error vale: 1.5782373827139748e-20 w2: [[1.10028443]\n",
      " [0.89971557]] b2: [0.10028444]\n",
      "step: 1400 error vale: 6.983100461480673e-21 w2: [[1.10028443]\n",
      " [0.89971557]] b2: [0.10028443]\n",
      "step: 1500 error vale: 3.08971064814298e-21 w2: [[1.10028443]\n",
      " [0.89971557]] b2: [0.10028443]\n",
      "step: 1600 error vale: 1.3670622626518665e-21 w2: [[1.10028443]\n",
      " [0.89971557]] b2: [0.10028443]\n",
      "step: 1700 error vale: 6.04859252590543e-22 w2: [[1.10028443]\n",
      " [0.89971557]] b2: [0.10028443]\n",
      "step: 1800 error vale: 2.6762350034695718e-22 w2: [[1.10028443]\n",
      " [0.89971557]] b2: [0.10028443]\n",
      "step: 1900 error vale: 1.1841794022183522e-22 w2: [[1.10028443]\n",
      " [0.89971557]] b2: [0.10028443]\n"
     ]
    }
   ],
   "source": [
    "const_list=[]\n",
    "learning_rate=1e-2 \n",
    "f=lambda x:loss_func(x_data2,t_data2)\n",
    "\n",
    "print('Initial error value:', loss_func(x_data2,t_data2))\n",
    "\n",
    "for step in range(2000): \n",
    "    w2= w2-learning_rate*numerical_derivative(f,w2)\n",
    "    b2= b2-learning_rate*numerical_derivative(f,b2)\n",
    "\n",
    "    if step%100==0:\n",
    "        print('step:', step, 'error vale:', loss_func(x_data2, t_data2), 'w2:', w2, 'b2:', b2)"
   ]
  },
  {
   "cell_type": "code",
   "execution_count": 42,
   "metadata": {},
   "outputs": [
    {
     "data": {
      "text/plain": [
       "array([[15.]])"
      ]
     },
     "execution_count": 42,
     "metadata": {},
     "output_type": "execute_result"
    }
   ],
   "source": [
    "predict(np.array([[6,7]]))\n",
    "predict(np.array([[7,8]]))\n"
   ]
  },
  {
   "cell_type": "code",
   "execution_count": null,
   "metadata": {},
   "outputs": [],
   "source": []
  },
  {
   "cell_type": "code",
   "execution_count": null,
   "metadata": {},
   "outputs": [],
   "source": []
  },
  {
   "cell_type": "code",
   "execution_count": null,
   "metadata": {},
   "outputs": [],
   "source": []
  },
  {
   "cell_type": "code",
   "execution_count": null,
   "metadata": {},
   "outputs": [],
   "source": []
  },
  {
   "cell_type": "code",
   "execution_count": null,
   "metadata": {},
   "outputs": [],
   "source": []
  }
 ],
 "metadata": {
  "kernelspec": {
   "display_name": "base",
   "language": "python",
   "name": "python3"
  },
  "language_info": {
   "codemirror_mode": {
    "name": "ipython",
    "version": 3
   },
   "file_extension": ".py",
   "mimetype": "text/x-python",
   "name": "python",
   "nbconvert_exporter": "python",
   "pygments_lexer": "ipython3",
   "version": "3.12.7"
  }
 },
 "nbformat": 4,
 "nbformat_minor": 2
}

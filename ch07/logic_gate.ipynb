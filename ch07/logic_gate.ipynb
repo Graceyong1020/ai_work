{
 "cells": [
  {
   "cell_type": "code",
   "execution_count": 3,
   "metadata": {},
   "outputs": [],
   "source": [
    "import numpy as np\n",
    "def AND_gate(x):\n",
    "    w1=0.5\n",
    "    w2=0.5\n",
    "    b=-0.7\n",
    "    result = x[0]*w1 + x[1]*w2 + b\n",
    "    if result <= 0:\n",
    "        return 0\n",
    "    else:\n",
    "        return 1\n"
   ]
  },
  {
   "cell_type": "code",
   "execution_count": 4,
   "metadata": {},
   "outputs": [
    {
     "name": "stdout",
     "output_type": "stream",
     "text": [
      "[0, 0, 0, 1]\n"
     ]
    }
   ],
   "source": [
    "input_data = np.array([[0,0], [0,1], [1,0], [1,1]])\n",
    "result = []\n",
    "for x in input_data:\n",
    "    result.append(AND_gate(x))\n",
    "print(result)\n"
   ]
  },
  {
   "cell_type": "code",
   "execution_count": 5,
   "metadata": {},
   "outputs": [],
   "source": [
    "import numpy as np\n",
    "def OR_gate(x):\n",
    "    w1=0.6\n",
    "    w2=0.6\n",
    "    b=0.5\n",
    "    result = x[0]*w1 + x[1]*w2 + b\n",
    "    if result <= 0:\n",
    "        return 0\n",
    "    else:\n",
    "        return 1"
   ]
  },
  {
   "cell_type": "code",
   "execution_count": 6,
   "metadata": {},
   "outputs": [
    {
     "name": "stdout",
     "output_type": "stream",
     "text": [
      "[1, 1, 1, 1]\n"
     ]
    }
   ],
   "source": [
    "input_data = np.array([[0,0], [0,1], [1,0], [1,1]])\n",
    "result = []\n",
    "for x in input_data:\n",
    "    result.append(OR_gate(x))\n",
    "print(result)"
   ]
  },
  {
   "cell_type": "code",
   "execution_count": 7,
   "metadata": {},
   "outputs": [],
   "source": [
    "# AND 게이트와 반대로 \n",
    "\n",
    "import numpy as np\n",
    "def NAND_gate(x):\n",
    "    w1=-0.5\n",
    "    w2=-0.5\n",
    "    b=0.7\n",
    "    result = x[0]*w1 + x[1]*w2 + b\n",
    "    if result <= 0:\n",
    "        return 0\n",
    "    else:\n",
    "        return 1"
   ]
  },
  {
   "cell_type": "code",
   "execution_count": 8,
   "metadata": {},
   "outputs": [
    {
     "name": "stdout",
     "output_type": "stream",
     "text": [
      "[1, 1, 1, 0]\n"
     ]
    }
   ],
   "source": [
    "input_data = np.array([[0,0], [0,1], [1,0], [1,1]])\n",
    "result = []\n",
    "for x in input_data:\n",
    "    result.append(NAND_gate(x))\n",
    "print(result)"
   ]
  },
  {
   "cell_type": "code",
   "execution_count": 9,
   "metadata": {},
   "outputs": [
    {
     "name": "stdout",
     "output_type": "stream",
     "text": [
      "[1, 1, 1, 0]\n"
     ]
    }
   ],
   "source": [
    "#XOR 게이트\n",
    "\n",
    "input_data = np.array([[0,0], [0,1], [1,0], [1,1]])\n",
    "\n",
    "s1 = [] # NAND 출력\n",
    "s2 = [] # OR 출력\n",
    "new_input_data = [] # s1과 s2를 입력으로 받는 AND 게이트\n",
    "final_output = [] # 최종 출력 => XOR 게이트\n",
    "\n",
    "for i in range(len(input_data)):\n",
    "    s1=NAND_gate(input_data[i]) # NAND 출력\n",
    "    s2=OR_gate(input_data[i]) # OR 출력\n",
    "\n",
    "    new_input_data.append(s1) # NAND 출력과 OR 출력을 입력값으로 받는 AND 게이트\n",
    "    new_input_data.append(s2) # NAND 출력과 OR 출력을 입력값으로 받는\n",
    "\n",
    "    result = AND_gate(new_input_data) # AND 출력\n",
    "    final_output.append(result) # 최종 출력\n",
    "    new_input_data = [] # AND 입력 초기화\n",
    "print(final_output)"
   ]
  },
  {
   "cell_type": "code",
   "execution_count": 10,
   "metadata": {},
   "outputs": [],
   "source": [
    "# XOR 게이트를 구현한 단층 퍼셉트론\n",
    "\n",
    "import torch\n",
    "import torch.nn as nn\n",
    "import torch.optim as optim\n",
    "\n",
    "X = torch.FloatTensor([[0,0], [0,1], [1,0], [1,1]])\n",
    "Y = torch.FloatTensor([[0], [1], [1], [0]]) # XOR 연산  \n",
    "\n",
    "linear = nn.Linear(2,1, bias=True) # input_dim = 2, output_dim = 1\n",
    "sigmoid = nn.Sigmoid()  # 출력을 시그모이드 함수를 이용해 0~1 사이의 값으로 변환\n",
    "model = nn.Sequential(linear, sigmoid) \n",
    "\n",
    "criterion = torch.nn.BCELoss() # 이진 분류에 사용하는 크로스엔트로피 함수 (Binary Cross Entropy)\n",
    "optimizer = torch.optim.SGD(model.parameters(), lr=1) # 경사하강법 SGD 사용 "
   ]
  },
  {
   "cell_type": "code",
   "execution_count": 11,
   "metadata": {},
   "outputs": [
    {
     "name": "stdout",
     "output_type": "stream",
     "text": [
      "0 0.7244454026222229\n",
      "100 0.6931474804878235\n",
      "200 0.6931471824645996\n",
      "300 0.6931472420692444\n",
      "400 0.6931471824645996\n",
      "500 0.6931471824645996\n",
      "600 0.6931471824645996\n",
      "700 0.6931471824645996\n",
      "800 0.6931471824645996\n",
      "900 0.6931471824645996\n",
      "1000 0.6931471824645996\n",
      "1100 0.6931471824645996\n",
      "1200 0.6931471824645996\n",
      "1300 0.6931471824645996\n",
      "1400 0.6931471824645996\n",
      "1500 0.6931471824645996\n",
      "1600 0.6931471824645996\n",
      "1700 0.6931471824645996\n",
      "1800 0.6931471824645996\n",
      "1900 0.6931471824645996\n",
      "2000 0.6931471824645996\n",
      "2100 0.6931471824645996\n",
      "2200 0.6931471824645996\n",
      "2300 0.6931471824645996\n",
      "2400 0.6931471824645996\n",
      "2500 0.6931471824645996\n",
      "2600 0.6931471824645996\n",
      "2700 0.6931471824645996\n",
      "2800 0.6931471824645996\n",
      "2900 0.6931471824645996\n",
      "3000 0.6931471824645996\n",
      "3100 0.6931471824645996\n",
      "3200 0.6931471824645996\n",
      "3300 0.6931471824645996\n",
      "3400 0.6931471824645996\n",
      "3500 0.6931471824645996\n",
      "3600 0.6931471824645996\n",
      "3700 0.6931471824645996\n",
      "3800 0.6931471824645996\n",
      "3900 0.6931471824645996\n",
      "4000 0.6931471824645996\n",
      "4100 0.6931471824645996\n",
      "4200 0.6931471824645996\n",
      "4300 0.6931471824645996\n",
      "4400 0.6931471824645996\n",
      "4500 0.6931471824645996\n",
      "4600 0.6931471824645996\n",
      "4700 0.6931471824645996\n",
      "4800 0.6931471824645996\n",
      "4900 0.6931471824645996\n",
      "5000 0.6931471824645996\n",
      "5100 0.6931471824645996\n",
      "5200 0.6931471824645996\n",
      "5300 0.6931471824645996\n",
      "5400 0.6931471824645996\n",
      "5500 0.6931471824645996\n",
      "5600 0.6931471824645996\n",
      "5700 0.6931471824645996\n",
      "5800 0.6931471824645996\n",
      "5900 0.6931471824645996\n",
      "6000 0.6931471824645996\n",
      "6100 0.6931471824645996\n",
      "6200 0.6931471824645996\n",
      "6300 0.6931471824645996\n",
      "6400 0.6931471824645996\n",
      "6500 0.6931471824645996\n",
      "6600 0.6931471824645996\n",
      "6700 0.6931471824645996\n",
      "6800 0.6931471824645996\n",
      "6900 0.6931471824645996\n",
      "7000 0.6931471824645996\n",
      "7100 0.6931471824645996\n",
      "7200 0.6931471824645996\n",
      "7300 0.6931471824645996\n",
      "7400 0.6931471824645996\n",
      "7500 0.6931471824645996\n",
      "7600 0.6931471824645996\n",
      "7700 0.6931471824645996\n",
      "7800 0.6931471824645996\n",
      "7900 0.6931471824645996\n",
      "8000 0.6931471824645996\n",
      "8100 0.6931471824645996\n",
      "8200 0.6931471824645996\n",
      "8300 0.6931471824645996\n",
      "8400 0.6931471824645996\n",
      "8500 0.6931471824645996\n",
      "8600 0.6931471824645996\n",
      "8700 0.6931471824645996\n",
      "8800 0.6931471824645996\n",
      "8900 0.6931471824645996\n",
      "9000 0.6931471824645996\n",
      "9100 0.6931471824645996\n",
      "9200 0.6931471824645996\n",
      "9300 0.6931471824645996\n",
      "9400 0.6931471824645996\n",
      "9500 0.6931471824645996\n",
      "9600 0.6931471824645996\n",
      "9700 0.6931471824645996\n",
      "9800 0.6931471824645996\n",
      "9900 0.6931471824645996\n",
      "10000 0.6931471824645996\n"
     ]
    }
   ],
   "source": [
    "for step in range(10001):\n",
    "    optimizer.zero_grad()\n",
    "    hypothesis = model(X)\n",
    "\n",
    "    # 비용 함수\n",
    "    cost = criterion(hypothesis, Y)\n",
    "    cost.backward()\n",
    "    optimizer.step()\n",
    "\n",
    "    if step % 100 == 0: # 100번째 에포크마다 비용 출력\n",
    "        print(step, cost.item())"
   ]
  },
  {
   "cell_type": "code",
   "execution_count": 12,
   "metadata": {},
   "outputs": [
    {
     "name": "stdout",
     "output_type": "stream",
     "text": [
      "tensor([[0.],\n",
      "        [0.],\n",
      "        [0.],\n",
      "        [0.]])\n"
     ]
    }
   ],
   "source": [
    "prediction=model(X) # 학습 후 예측\n",
    "print((prediction>0.5).float()) # 예측값이 0.5를 넘으면 1, 넘지 않으면 0 출력. float() 사용 안 할 시 tensor 출력 "
   ]
  },
  {
   "cell_type": "markdown",
   "metadata": {},
   "source": [
    "딥러닝 활용 XOR "
   ]
  },
  {
   "cell_type": "code",
   "execution_count": 13,
   "metadata": {},
   "outputs": [],
   "source": [
    "#훈련 데이터\n",
    "X = torch.FloatTensor([[0,0], [0,1], [1,0], [1,1]])\n",
    "Y = torch.FloatTensor([[0], [1], [1], [0]]) # XOR 연산  "
   ]
  },
  {
   "cell_type": "code",
   "execution_count": 14,
   "metadata": {},
   "outputs": [],
   "source": [
    "#모델\n",
    "\n",
    "model = nn.Sequential(\n",
    "    nn.Linear(2,10, bias=True),\n",
    "    nn.Sigmoid(),\n",
    "    nn.Linear(10,10, bias=True), # 두번쨰 은닉층 \n",
    "    nn.Sigmoid(),\n",
    "    nn.Linear(10,10, bias=True), # 세번째 은닉층\n",
    "    nn.Sigmoid(),\n",
    "    nn.Linear(10,1, bias=True), # 출력층\n",
    "    nn.Sigmoid()\n",
    ")\n",
    "\n",
    "\n"
   ]
  },
  {
   "cell_type": "code",
   "execution_count": 15,
   "metadata": {},
   "outputs": [],
   "source": [
    "#비용함수 및 옵티마이저\n",
    "criterion =torch.nn.BCELoss() # 이진 분류에 사용하는 크로스엔트로피 함수 (Binary Cross Entropy)\n",
    "optimizer = torch.optim.SGD(model.parameters(), lr=1) # 경사하강법 SGD 사용 \n"
   ]
  },
  {
   "cell_type": "code",
   "execution_count": 16,
   "metadata": {},
   "outputs": [
    {
     "name": "stdout",
     "output_type": "stream",
     "text": [
      "0 0.6942747235298157\n",
      "100 0.6931433081626892\n",
      "200 0.6931424736976624\n",
      "300 0.6931416392326355\n",
      "400 0.6931408047676086\n",
      "500 0.693139910697937\n",
      "600 0.6931390762329102\n",
      "700 0.6931381225585938\n",
      "800 0.6931371688842773\n",
      "900 0.6931361556053162\n",
      "1000 0.693135142326355\n",
      "1100 0.6931340098381042\n",
      "1200 0.6931328177452087\n",
      "1300 0.6931316256523132\n",
      "1400 0.693130373954773\n",
      "1500 0.6931289434432983\n",
      "1600 0.6931275129318237\n",
      "1700 0.6931259632110596\n",
      "1800 0.6931242942810059\n",
      "1900 0.6931225657463074\n",
      "2000 0.6931207180023193\n",
      "2100 0.693118691444397\n",
      "2200 0.6931164264678955\n",
      "2300 0.6931140422821045\n",
      "2400 0.6931113600730896\n",
      "2500 0.6931084394454956\n",
      "2600 0.6931052207946777\n",
      "2700 0.6931016445159912\n",
      "2800 0.693097710609436\n",
      "2900 0.6930932998657227\n",
      "3000 0.6930882930755615\n",
      "3100 0.6930825710296631\n",
      "3200 0.6930761337280273\n",
      "3300 0.6930687427520752\n",
      "3400 0.6930601596832275\n",
      "3500 0.6930500268936157\n",
      "3600 0.6930383443832397\n",
      "3700 0.6930242776870728\n",
      "3800 0.6930071711540222\n",
      "3900 0.6929863691329956\n",
      "4000 0.6929605603218079\n",
      "4100 0.6929278373718262\n",
      "4200 0.6928855776786804\n",
      "4300 0.6928295493125916\n",
      "4400 0.6927530169487\n",
      "4500 0.6926447749137878\n",
      "4600 0.6924843788146973\n",
      "4700 0.692232608795166\n",
      "4800 0.6918056011199951\n",
      "4900 0.6909985542297363\n",
      "5000 0.689200758934021\n",
      "5100 0.6838958859443665\n",
      "5200 0.6572674512863159\n",
      "5300 0.5117956399917603\n",
      "5400 0.3944503664970398\n",
      "5500 0.01420767605304718\n",
      "5600 0.006495038978755474\n",
      "5700 0.004059905186295509\n",
      "5800 0.0029073054902255535\n",
      "5900 0.00224554562009871\n",
      "6000 0.0018197906902059913\n",
      "6100 0.0015244667883962393\n",
      "6200 0.001308406121097505\n",
      "6300 0.001143930945545435\n",
      "6400 0.001014720182865858\n",
      "6500 0.000910746050067246\n",
      "6600 0.0008253817795775831\n",
      "6700 0.0007540695951320231\n",
      "6800 0.0006936697755008936\n",
      "6900 0.0006418729899451137\n",
      "7000 0.0005970298079773784\n",
      "7100 0.0005578453419730067\n",
      "7200 0.0005232696421444416\n",
      "7300 0.000492642167955637\n",
      "7400 0.00046523113269358873\n",
      "7500 0.0004406230873428285\n",
      "7600 0.0004183867131359875\n",
      "7700 0.0003982257912866771\n",
      "7800 0.0003798633115366101\n",
      "7900 0.0003630297724157572\n",
      "8000 0.0003476023848634213\n",
      "8100 0.0003333818167448044\n",
      "8200 0.00032021140214055777\n",
      "8300 0.0003080609021708369\n",
      "8400 0.0002967685286421329\n",
      "8500 0.0002862221735995263\n",
      "8600 0.0002763828379102051\n",
      "8700 0.0002671605325303972\n",
      "8800 0.0002585250185802579\n",
      "8900 0.00025039183674380183\n",
      "9000 0.00024276759359054267\n",
      "9100 0.00023554262588731945\n",
      "9200 0.00022878864547237754\n",
      "9300 0.00022233986237552017\n",
      "9400 0.00021624175133183599\n",
      "9500 0.0002104510203935206\n",
      "9600 0.0002049564354820177\n",
      "9700 0.00019977685587946326\n",
      "9800 0.0001948130375239998\n",
      "9900 0.00019005659851245582\n",
      "10000 0.00018555928545538336\n"
     ]
    }
   ],
   "source": [
    "#모델 학습\n",
    "for epoch in range(10001):\n",
    "    optimizer.zero_grad()\n",
    "    y_hat=model(X)\n",
    "    cost=criterion(y_hat, Y)\n",
    "    cost.backward()\n",
    "    optimizer.step()\n",
    "\n",
    "    if epoch % 100 == 0:\n",
    "        print(epoch, cost.item())\n"
   ]
  },
  {
   "cell_type": "code",
   "execution_count": 17,
   "metadata": {},
   "outputs": [
    {
     "name": "stdout",
     "output_type": "stream",
     "text": [
      "tensor([[0.],\n",
      "        [1.],\n",
      "        [1.],\n",
      "        [0.]])\n"
     ]
    }
   ],
   "source": [
    "#모델 사용하여 예측\n",
    "prediction=model(X)\n",
    "print((prediction>0.5).float())"
   ]
  },
  {
   "cell_type": "code",
   "execution_count": 18,
   "metadata": {},
   "outputs": [],
   "source": [
    "import os \n",
    "os.environ['KMP_DUPLICATE_LIB_OK']='True'"
   ]
  },
  {
   "cell_type": "code",
   "execution_count": 19,
   "metadata": {},
   "outputs": [],
   "source": [
    "#하이퍼볼릭 탄젠트 함수\n",
    "x = np.arange(-5, 5, 0.1) # -5부터 5까지 0.1 간격 생성\n",
    "y = np.tanh(x) "
   ]
  },
  {
   "cell_type": "code",
   "execution_count": 20,
   "metadata": {},
   "outputs": [
    {
     "data": {
      "image/png": "[encoded data removed]",
      "text/plain": [
       "<Figure size 640x480 with 1 Axes>"
      ]
     },
     "metadata": {},
     "output_type": "display_data"
    }
   ],
   "source": [
    "import matplotlib.pyplot as plt\n",
    "\n",
    "plt.plot(x, y)\n",
    "plt.plot([0,0],[1.0,-1.0], ':') # 가운데 점선 추가\n",
    "plt.axhline(y=0, color='orange', linestyle='--') # 수평 점선 추가\n",
    "plt.title('Tanh Function')\n",
    "plt.show()\n"
   ]
  },
  {
   "cell_type": "code",
   "execution_count": 21,
   "metadata": {},
   "outputs": [
    {
     "data": {
      "image/png": "[encoded data removed]",
      "text/plain": [
       "<Figure size 640x480 with 1 Axes>"
      ]
     },
     "metadata": {},
     "output_type": "display_data"
    }
   ],
   "source": [
    "#ReLU 함수\n",
    "\n",
    "def relu(x):\n",
    "    return np.maximum(0,x) # x값이 0보다 작으면 0을 반환, 0보다 크면 x를 반환\n",
    "\n",
    "x = np.arange(-5, 5, 0.1)\n",
    "y = relu(x)\n",
    "\n",
    "plt.plot(x, y)\n",
    "plt.plot([0,0], [5.0, 0.0], ':') # 가운데 점선 추가\n",
    "plt.title('Relu Function')\n",
    "plt.show()"
   ]
  },
  {
   "cell_type": "code",
   "execution_count": 22,
   "metadata": {},
   "outputs": [
    {
     "data": {
      "image/png": "[encoded data removed]",
      "text/plain": [
       "<Figure size 640x480 with 1 Axes>"
      ]
     },
     "metadata": {},
     "output_type": "display_data"
    }
   ],
   "source": [
    "# Leaky ReLU 함수\n",
    "\n",
    "a = 0.1 # a에 따라 변형 가능\n",
    "\n",
    "def leaky_relu(x):\n",
    "    return np.maximum(a*x, x) # x값이 0보다 작으면 a*x를 반환, 0보다 크면 x를 반환\n",
    "\n",
    "x = np.arange(-5, 5, 0.1)\n",
    "y = leaky_relu(x)\n",
    "\n",
    "plt.plot(x, y)\n",
    "plt.plot([0,0], [5.0, 0.0], ':') # 가운데 점선 추가\n",
    "plt.title('Leaky ReLU Function')\n",
    "plt.show()"
   ]
  },
  {
   "cell_type": "code",
   "execution_count": null,
   "metadata": {},
   "outputs": [],
   "source": []
  }
 ],
 "metadata": {
  "kernelspec": {
   "display_name": "base",
   "language": "python",
   "name": "python3"
  },
  "language_info": {
   "codemirror_mode": {
    "name": "ipython",
    "version": 3
   },
   "file_extension": ".py",
   "mimetype": "text/x-python",
   "name": "python",
   "nbconvert_exporter": "python",
   "pygments_lexer": "ipython3",
   "version": "3.12.7"
  }
 },
 "nbformat": 4,
 "nbformat_minor": 2
}

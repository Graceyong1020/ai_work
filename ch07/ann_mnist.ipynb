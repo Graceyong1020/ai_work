{
 "cells": [
  {
   "cell_type": "code",
   "execution_count": 29,
   "metadata": {},
   "outputs": [],
   "source": [
    "import numpy as np\n",
    "import matplotlib.pyplot as plt\n",
    "import torch\n",
    "import torch.nn as nn\n",
    "import torch.nn.functional as F\n",
    "import torch.optim as optim\n",
    "from torchvision import datasets, transforms"
   ]
  },
  {
   "cell_type": "code",
   "execution_count": 30,
   "metadata": {},
   "outputs": [],
   "source": [
    "import os \n",
    "os.environ[\"KMP_DUPLICATE_LIB_OK\"]=\"TRUE\" \n",
    "\n",
    "# 파이토치 사용할때 커널 충돌 문제 해결"
   ]
  },
  {
   "cell_type": "code",
   "execution_count": 31,
   "metadata": {},
   "outputs": [],
   "source": [
    "mnist_train = datasets.MNIST('MINIST_data', \n",
    "                             train = True, \n",
    "                             download=True, \n",
    "                             transform=transforms.Compose([transforms.ToTensor()])) # train data를 가져옴\n",
    "\n",
    "mnist_test = datasets.MNIST('MINIST_data', \n",
    "                             train = False, # False로 설정하면 test data를 가져옴\n",
    "                             download=True, \n",
    "                             transform=transforms.Compose([transforms.ToTensor()])) # test data를 가져옴"
   ]
  },
  {
   "cell_type": "code",
   "execution_count": 32,
   "metadata": {},
   "outputs": [
    {
     "name": "stdout",
     "output_type": "stream",
     "text": [
      "Dataset MNIST\n",
      "    Number of datapoints: 60000\n",
      "    Root location: MINIST_data\n",
      "    Split: Train\n",
      "    StandardTransform\n",
      "Transform: Compose(\n",
      "               ToTensor()\n",
      "           )\n",
      "Dataset MNIST\n",
      "    Number of datapoints: 10000\n",
      "    Root location: MINIST_data\n",
      "    Split: Test\n",
      "    StandardTransform\n",
      "Transform: Compose(\n",
      "               ToTensor()\n",
      "           )\n"
     ]
    }
   ],
   "source": [
    "print(mnist_train)\n",
    "print(mnist_test)"
   ]
  },
  {
   "cell_type": "code",
   "execution_count": 33,
   "metadata": {},
   "outputs": [
    {
     "name": "stdout",
     "output_type": "stream",
     "text": [
      "torch.Size([60000, 28, 28])\n",
      "torch.Size([60000])\n",
      "torch.Size([10000, 28, 28])\n",
      "torch.Size([10000])\n"
     ]
    }
   ],
   "source": [
    "print(mnist_train.data.shape) # 60000개의 이미지 데이터, 28*28 크기의 이미지\n",
    "print(mnist_train.targets.shape) # 60000개의 이미지 데이터에 대한 정답 레이블\n",
    "\n",
    "print(mnist_test.data.shape) \n",
    "print(mnist_test.targets.shape) "
   ]
  },
  {
   "cell_type": "code",
   "execution_count": 34,
   "metadata": {},
   "outputs": [],
   "source": [
    "# 데이터 이미지 확인\n",
    "\n",
    "def plot(x): \n",
    "    img=(np.array(x.detach(), dtype='float')).reshape(28,28)\n",
    "    plt.imshow(img, cmap='grey')\n",
    "    plt.show()"
   ]
  },
  {
   "cell_type": "code",
   "execution_count": 35,
   "metadata": {},
   "outputs": [
    {
     "data": {
      "image/png": "[encoded data removed]",
      "text/plain": [
       "<Figure size 640x480 with 1 Axes>"
      ]
     },
     "metadata": {},
     "output_type": "display_data"
    }
   ],
   "source": [
    "plot(mnist_train.data[10]) #11번째 이미지 출력"
   ]
  },
  {
   "cell_type": "code",
   "execution_count": 36,
   "metadata": {},
   "outputs": [
    {
     "name": "stdout",
     "output_type": "stream",
     "text": [
      "tensor(3)\n"
     ]
    }
   ],
   "source": [
    "print(mnist_train.targets[10]) # tensor로 출력"
   ]
  },
  {
   "cell_type": "code",
   "execution_count": 37,
   "metadata": {},
   "outputs": [
    {
     "name": "stdout",
     "output_type": "stream",
     "text": [
      "tensor(3)\n",
      "torch.Size([60000, 28, 28])\n",
      "torch.Size([60000])\n"
     ]
    }
   ],
   "source": [
    "print(mnist_train.targets[10])\n",
    "print(mnist_train.data.shape)\n",
    "print(mnist_train.targets.shape)"
   ]
  },
  {
   "cell_type": "code",
   "execution_count": 38,
   "metadata": {},
   "outputs": [
    {
     "data": {
      "text/plain": [
       "tensor([[  0,   0,   0,   0,   0,   0,   0,   0,   0,   0,   0,   0,   0,   0,\n",
       "           0,   0,   0,   0,   0,   0,   0,   0,   0,   0,   0,   0,   0,   0],\n",
       "        [  0,   0,   0,   0,   0,   0,   0,   0,   0,   0,   0,   0,   0,   0,\n",
       "           0,   0,   0,   0,   0,   0,   0,   0,   0,   0,   0,   0,   0,   0],\n",
       "        [  0,   0,   0,   0,   0,   0,   0,   0,   0,   0,   0,   0,   0,   0,\n",
       "           0,   0,   0,   0,   0,   0,   0,   0,   0,   0,   0,   0,   0,   0],\n",
       "        [  0,   0,   0,   0,   0,   0,   0,   0,   0,   0,   0,   0,   0,   0,\n",
       "           0,   0,   0,   0,   0,   0,   0,   0,   0,   0,   0,   0,   0,   0],\n",
       "        [  0,   0,   0,   0,   0,   0,   0,   0,   0,   0,   0,  42, 118, 219,\n",
       "         166, 118, 118,   6,   0,   0,   0,   0,   0,   0,   0,   0,   0,   0],\n",
       "        [  0,   0,   0,   0,   0,   0,   0,   0,   0,   0, 103, 242, 254, 254,\n",
       "         254, 254, 254,  66,   0,   0,   0,   0,   0,   0,   0,   0,   0,   0],\n",
       "        [  0,   0,   0,   0,   0,   0,   0,   0,   0,   0,  18, 232, 254, 254,\n",
       "         254, 254, 254, 238,  70,   0,   0,   0,   0,   0,   0,   0,   0,   0],\n",
       "        [  0,   0,   0,   0,   0,   0,   0,   0,   0,   0,   0, 104, 244, 254,\n",
       "         224, 254, 254, 254, 141,   0,   0,   0,   0,   0,   0,   0,   0,   0],\n",
       "        [  0,   0,   0,   0,   0,   0,   0,   0,   0,   0,   0,   0, 207, 254,\n",
       "         210, 254, 254, 254,  34,   0,   0,   0,   0,   0,   0,   0,   0,   0],\n",
       "        [  0,   0,   0,   0,   0,   0,   0,   0,   0,   0,   0,   0,  84, 206,\n",
       "         254, 254, 254, 254,  41,   0,   0,   0,   0,   0,   0,   0,   0,   0],\n",
       "        [  0,   0,   0,   0,   0,   0,   0,   0,   0,   0,   0,   0,   0,  24,\n",
       "         209, 254, 254, 254, 171,   0,   0,   0,   0,   0,   0,   0,   0,   0],\n",
       "        [  0,   0,   0,   0,   0,   0,   0,   0,   0,   0,   0,   0,  91, 137,\n",
       "         253, 254, 254, 254, 112,   0,   0,   0,   0,   0,   0,   0,   0,   0],\n",
       "        [  0,   0,   0,   0,   0,   0,   0,   0,   0,   0,  40, 214, 250, 254,\n",
       "         254, 254, 254, 254,  34,   0,   0,   0,   0,   0,   0,   0,   0,   0],\n",
       "        [  0,   0,   0,   0,   0,   0,   0,   0,   0,   0,  81, 247, 254, 254,\n",
       "         254, 254, 254, 254, 146,   0,   0,   0,   0,   0,   0,   0,   0,   0],\n",
       "        [  0,   0,   0,   0,   0,   0,   0,   0,   0,   0,   0, 110, 246, 254,\n",
       "         254, 254, 254, 254, 171,   0,   0,   0,   0,   0,   0,   0,   0,   0],\n",
       "        [  0,   0,   0,   0,   0,   0,   0,   0,   0,   0,   0,   0,  73,  89,\n",
       "          89,  93, 240, 254, 171,   0,   0,   0,   0,   0,   0,   0,   0,   0],\n",
       "        [  0,   0,   0,   0,   0,   0,   0,   0,   0,   0,   0,   0,   0,   0,\n",
       "           0,   1, 128, 254, 219,  31,   0,   0,   0,   0,   0,   0,   0,   0],\n",
       "        [  0,   0,   0,   0,   0,   0,   0,   0,   0,   0,   0,   0,   0,   0,\n",
       "           0,   7, 254, 254, 214,  28,   0,   0,   0,   0,   0,   0,   0,   0],\n",
       "        [  0,   0,   0,   0,   0,   0,   0,   0,   0,   0,   0,   0,   0,   0,\n",
       "           0, 138, 254, 254, 116,   0,   0,   0,   0,   0,   0,   0,   0,   0],\n",
       "        [  0,   0,   0,   0,   0,   0,  19, 177,  90,   0,   0,   0,   0,   0,\n",
       "          25, 240, 254, 254,  34,   0,   0,   0,   0,   0,   0,   0,   0,   0],\n",
       "        [  0,   0,   0,   0,   0,   0, 164, 254, 215,  63,  36,   0,  51,  89,\n",
       "         206, 254, 254, 139,   8,   0,   0,   0,   0,   0,   0,   0,   0,   0],\n",
       "        [  0,   0,   0,   0,   0,   0,  57, 197, 254, 254, 222, 180, 241, 254,\n",
       "         254, 253, 213,  11,   0,   0,   0,   0,   0,   0,   0,   0,   0,   0],\n",
       "        [  0,   0,   0,   0,   0,   0,   0, 140, 105, 254, 254, 254, 254, 254,\n",
       "         254, 236,   0,   0,   0,   0,   0,   0,   0,   0,   0,   0,   0,   0],\n",
       "        [  0,   0,   0,   0,   0,   0,   0,   0,   7, 117, 117, 165, 254, 254,\n",
       "         239,  50,   0,   0,   0,   0,   0,   0,   0,   0,   0,   0,   0,   0],\n",
       "        [  0,   0,   0,   0,   0,   0,   0,   0,   0,   0,   0,   0,   0,   0,\n",
       "           0,   0,   0,   0,   0,   0,   0,   0,   0,   0,   0,   0,   0,   0],\n",
       "        [  0,   0,   0,   0,   0,   0,   0,   0,   0,   0,   0,   0,   0,   0,\n",
       "           0,   0,   0,   0,   0,   0,   0,   0,   0,   0,   0,   0,   0,   0],\n",
       "        [  0,   0,   0,   0,   0,   0,   0,   0,   0,   0,   0,   0,   0,   0,\n",
       "           0,   0,   0,   0,   0,   0,   0,   0,   0,   0,   0,   0,   0,   0],\n",
       "        [  0,   0,   0,   0,   0,   0,   0,   0,   0,   0,   0,   0,   0,   0,\n",
       "           0,   0,   0,   0,   0,   0,   0,   0,   0,   0,   0,   0,   0,   0]],\n",
       "       dtype=torch.uint8)"
      ]
     },
     "execution_count": 38,
     "metadata": {},
     "output_type": "execute_result"
    }
   ],
   "source": [
    "x = mnist_train.data[10]\n",
    "x"
   ]
  },
  {
   "cell_type": "code",
   "execution_count": 39,
   "metadata": {},
   "outputs": [
    {
     "name": "stdout",
     "output_type": "stream",
     "text": [
      "torch.Size([60000, 28, 28])\n",
      "torch.Size([60000])\n",
      "784\n",
      "10\n"
     ]
    }
   ],
   "source": [
    "# 0 ~ 1 사이의 값으로 정규화\n",
    "\n",
    "x = mnist_train.data.float() / 255 # 데이터 스케일 조정 => 0~1사이의 값으로 정규화\n",
    "#x[0] \n",
    "y = mnist_train.targets\n",
    "#y[:10] \n",
    "\n",
    "print(x.size())\n",
    "print(y.size())\n",
    "x=x.view(x.size(0),-1) # 2차원 데이터를 1차원으로 변환\n",
    "\n",
    "input_size = x.size(-1) # -1은 마지막 차원을 의미. 입력데이터 크기\n",
    "print(input_size) \n",
    "output_size=int(max(y))+1 # 제일 큰 값에 1을 더해줌 => 10. 출력데이터 크기\n",
    "print(output_size)"
   ]
  },
  {
   "cell_type": "code",
   "execution_count": 40,
   "metadata": {},
   "outputs": [
    {
     "name": "stdout",
     "output_type": "stream",
     "text": [
      "48000 12000 10000\n",
      "torch.Size([48000, 784]) torch.Size([12000, 784])\n",
      "torch.Size([48000]) torch.Size([12000])\n",
      "torch.Size([48000, 784])\n",
      "torch.Size([12000, 784])\n",
      "torch.Size([10000, 784])\n",
      "torch.Size([48000])\n",
      "torch.Size([12000])\n",
      "torch.Size([10000])\n"
     ]
    }
   ],
   "source": [
    "#훈련 데이터(train)와 검증 데이터(valid) 분리\n",
    "\n",
    "ratio = [0.8, 0.2] # 훈련 데이터와 검증 데이터 비율\n",
    "train_cnt=int(x.size(0)*ratio[0]) # 훈련 데이터 개수\n",
    "valid_cnt=int(x.size(0)*ratio[1]) # 검증 데이터 개수\n",
    "test_cnt=len(mnist_test.data) # 테스트 데이터 개수\n",
    "\n",
    "print(train_cnt, valid_cnt, test_cnt)\n",
    "cnts=[train_cnt, valid_cnt]\n",
    "\n",
    "indices=torch.randperm(x.size(0)) # 데이터 인덱스 섞기 위해 랜덤으로 섞음 \n",
    "\n",
    "#print(indices[0:20])\n",
    "\n",
    "x=torch.index_select(x, dim=0, index=indices) # 데이터 섞음\n",
    "y=torch.index_select(y, dim=0, index=indices) # y도 인덱스 맞춰서 섞음\n",
    "#plot(x[0]) # 데이터 확인 -> 섞인 데이터 확인 가능\n",
    "#y[0] # x[0]에 대한 y값 맞춰짐 \n",
    "\n",
    "x1=list(x.split(cnts, dim=0)) # 데이터 분할\n",
    "y1=list(y.split(cnts, dim=0)) # y값도 데이터 분할\n",
    "print(x1[0].shape, x1[1].shape) # 훈련, 검증, 테스트 데이터 개수 확인\n",
    "print(y1[0].shape, y1[1].shape) # 훈련, 검증, 테스트 데이터 개수 확인\n",
    "\n",
    "x1+=[(mnist_test.data.float()/255).view(test_cnt, -1)] # 2차원으로 변환\n",
    "y1+=[mnist_test.targets]\n",
    "\n",
    "for ii in x1:\n",
    "    print(ii.shape)\n",
    "\n",
    "for yi in y1:\n",
    "    print(yi.shape)\n",
    "\n"
   ]
  },
  {
   "cell_type": "code",
   "execution_count": 41,
   "metadata": {},
   "outputs": [
    {
     "data": {
      "text/plain": [
       "Sequential(\n",
       "  (0): Linear(in_features=784, out_features=500, bias=True)\n",
       "  (1): LeakyReLU(negative_slope=0.01)\n",
       "  (2): Linear(in_features=500, out_features=400, bias=True)\n",
       "  (3): LeakyReLU(negative_slope=0.01)\n",
       "  (4): Linear(in_features=400, out_features=300, bias=True)\n",
       "  (5): LeakyReLU(negative_slope=0.01)\n",
       "  (6): Linear(in_features=300, out_features=200, bias=True)\n",
       "  (7): LeakyReLU(negative_slope=0.01)\n",
       "  (8): Linear(in_features=200, out_features=100, bias=True)\n",
       "  (9): LeakyReLU(negative_slope=0.01)\n",
       "  (10): Linear(in_features=100, out_features=50, bias=True)\n",
       "  (11): LeakyReLU(negative_slope=0.01)\n",
       "  (12): Linear(in_features=50, out_features=10, bias=True)\n",
       "  (13): Softmax(dim=-1)\n",
       ")"
      ]
     },
     "execution_count": 41,
     "metadata": {},
     "output_type": "execute_result"
    }
   ],
   "source": [
    "model=nn.Sequential(\n",
    "    nn.Linear(input_size, 500), # 입력층\n",
    "    nn.LeakyReLU(),\n",
    "    nn.Linear(500, 400), # 은닉층 ( 앞의 값의 뒤 값과 은닉층 값의 앞 값이 같아야함)\n",
    "    nn.LeakyReLU(),\n",
    "    nn.Linear(400, 300),\n",
    "    nn.LeakyReLU(),\n",
    "    nn.Linear(300, 200),\n",
    "    nn.LeakyReLU(),\n",
    "    nn.Linear(200, 100),\n",
    "    nn.LeakyReLU(),\n",
    "    nn.Linear(100, 50),\n",
    "    nn.LeakyReLU(),\n",
    "    nn.Linear(50, output_size), # 출력층\n",
    "    nn.Softmax(dim=-1) # 출력층의 활성화 함수\n",
    ")\n",
    "model\n"
   ]
  },
  {
   "cell_type": "code",
   "execution_count": 42,
   "metadata": {},
   "outputs": [],
   "source": [
    "# 모델 훈련\n",
    "\n",
    "crit = nn.CrossEntropyLoss() # 손실함수\n",
    "optimizer = optim.Adam(model.parameters()) # 옵티마이저 \n"
   ]
  },
  {
   "cell_type": "code",
   "execution_count": 43,
   "metadata": {},
   "outputs": [],
   "source": [
    "device = torch.device('cpu')\n",
    "if torch.cuda.is_available():\n",
    "    device = torch.device('cuda')"
   ]
  },
  {
   "cell_type": "code",
   "execution_count": 44,
   "metadata": {},
   "outputs": [],
   "source": [
    "model = model.to(device) # 모델을 gpu로 보냄 -> cuda 사용할때 설정 필요\n",
    "x2=[x_i.to(device) for x_i in x1]\n",
    "y2=[y_i.to(device) for y_i in y1]\n"
   ]
  },
  {
   "cell_type": "code",
   "execution_count": 45,
   "metadata": {},
   "outputs": [],
   "source": [
    "# 훈련\n",
    "\n",
    "epochs = 1000\n",
    "batch_size = 256 # 배치 사이즈(한번에 학습시킬 데이터 양)\n",
    "print_interval = 10 # 출력 간격"
   ]
  },
  {
   "cell_type": "code",
   "execution_count": 46,
   "metadata": {},
   "outputs": [],
   "source": [
    "# 새로운 데이터 넣었을때 가장 낮은 loss값을 가진 모델을 저장하기 위한 변수\n",
    "\n",
    "\n",
    "from copy import deepcopy # 모델 복사\n",
    "\n",
    "lowest_loss = np.inf # 가장 낮은 loss값을 저장하기 위한 변수 \n",
    "bast_model=None\n",
    "\n",
    "early_stop = 50  # 50번 이상 loss값이 증가하면 학습 종료 \n",
    "lowest_epoch = np.inf # 가장 낮은 loss값을 가진 epoch 저장 "
   ]
  },
  {
   "cell_type": "code",
   "execution_count": 47,
   "metadata": {},
   "outputs": [
    {
     "data": {
      "text/plain": [
       "[tensor([6, 7, 7,  ..., 2, 7, 4]),\n",
       " tensor([7, 2, 9,  ..., 1, 2, 9]),\n",
       " tensor([7, 2, 1,  ..., 4, 5, 6])]"
      ]
     },
     "execution_count": 47,
     "metadata": {},
     "output_type": "execute_result"
    }
   ],
   "source": [
    "y2[:10] # y값 확인 -> 1차원. 2차원으로 만들어야함 "
   ]
  },
  {
   "cell_type": "code",
   "execution_count": 60,
   "metadata": {},
   "outputs": [
    {
     "name": "stdout",
     "output_type": "stream",
     "text": [
      "9 1.5966222153065053 1.5648603439331055 0.3149160998208182\n",
      "19 1.5499699940072729 1.5376467552590878 0.3149160998208182\n",
      "29 1.604508178031191 1.607516864512829 0.3149160998208182\n",
      "39 1.5510332337085238 1.5669940938340856 0.3149160998208182\n",
      "49 1.5906569742141885 1.579848882999826 0.3149160998208182\n",
      "59 1.698840320110321 1.6836152964449944 0.3149160998208182\n",
      "16{} 이후 50 epoch 증가하는 동안 loss가 감소하지 않아 학습을 종료합니다.\n",
      "epoch 16일때 손실함수 0.3149로 가장 낮음\n"
     ]
    }
   ],
   "source": [
    "# 훈련 시작\n",
    "\n",
    "train_history, valid_history = [], []\n",
    "\n",
    "for i in range(epochs) :\n",
    "    indices=torch.randperm(x2[0].size(0)).to(device) # 데이터 섞기\n",
    "    x_=torch.index_select(x2[0], dim=0, index=indices) # x 훈련 데이터 섞음\n",
    "    y_=torch.index_select(y2[0], dim=0, index=indices) # y값도 섞음\n",
    "\n",
    "    x_=x_.split(batch_size, dim=0) # 배치 사이즈로 데이터 나눔\n",
    "    y_=y_.split(batch_size, dim=0) # 배치 사이즈로 y값 나눔\n",
    "    #print(x_[0].size())\n",
    "    #print(y_[0].size())\n",
    "\n",
    "    train_loss, valid_loss = 0, 0 # 훈련 데이터 loss값, 검증 데이터 loss값 초기화 => 한 batch마다 loss값 계산하기 위해\n",
    "    y_hat = []\n",
    "\n",
    "    for x_i, y_i in zip(x_, y_) : # zip 함수를 사용하여 x와 y값을 묶어서 tensor로 변환\n",
    "        y_hat_i = model(x_i) # 모델에 x값 넣어서 y값 예측\n",
    "        loss = crit(y_hat_i, y_i.squeeze()) # y_i를 2차원으로 만들어서 loss값 계산\n",
    "\n",
    "        optimizer.zero_grad() # 기울기 초기화\n",
    "        loss.backward()\n",
    "        optimizer.step()\n",
    "        train_loss+=float(loss) # loss값 계산해서 누적 \n",
    "\n",
    "    train_loss= train_loss/len(x_) # loss값 계산. len(x_)는 배치 사이즈로 나눈 값(train_loss/256)\n",
    "\n",
    "    with torch.no_grad(): # 검증 데이터는 기울기 계산 필요없음\n",
    "        x_=x2[1].split(batch_size, dim=0) # 검증 데이터 배치 사이즈로 나눔 -> 똑같은 사이즈로 만들기위해 \n",
    "        y_=y2[1].split(batch_size, dim=0) \n",
    "\n",
    "        for x_i, y_i in zip(x_, y_) : # zip 함수를 사용하여 x와 y값을 묶어서 tensor로 변환\n",
    "            y_hat_i=model(x_i) # 모델에 x값 넣어서 y값 예측\n",
    "            loss=crit(y_hat_i, y_i) # loss값 계산\n",
    "            valid_loss+=float(loss) \n",
    "\n",
    "            y_hat+=[y_hat_i] \n",
    "    valid_loss=valid_loss/len(x_) # loss값 계산\n",
    "\n",
    "    train_history+= [train_loss] # 훈련 데이터 loss값 저장\n",
    "    valid_history+= [valid_loss] # 검증 데이터 loss값 저장\n",
    "\n",
    "    #출력\n",
    "    if (i+1) % print_interval == 0:\n",
    "        print(i, train_loss, valid_loss, lowest_loss) # epoch, 훈련 데이터 loss값, 검증 데이터 loss값 출력\n",
    "\n",
    "    if valid_loss <= lowest_loss: # 검증 데이터 loss값이 가장 낮을때 모델 저장\n",
    "        lowest_loss = valid_loss\n",
    "        lowest_epoch = i\n",
    "        best_model = deepcopy(model.state_dict()) # 작은 값 구해질때마다 모델 저장\n",
    "    else:\n",
    "        if early_stop > 0 and lowest_epoch + early_stop < i+1: \n",
    "            print('%d{} 이후 %d epoch 증가하는 동안 loss가 감소하지 않아 학습을 종료합니다.' %(lowest_epoch, early_stop))\n",
    "            break\n",
    "\n",
    "print('epoch %d일때 손실함수 %.4f로 가장 낮음' %(lowest_epoch, lowest_loss))\n",
    "\n"
   ]
  },
  {
   "cell_type": "code",
   "execution_count": 61,
   "metadata": {},
   "outputs": [
    {
     "data": {
      "image/png": "[encoded data removed]",
      "text/plain": [
       "<Figure size 600x600 with 1 Axes>"
      ]
     },
     "metadata": {},
     "output_type": "display_data"
    }
   ],
   "source": [
    "import matplotlib.pyplot as plt\n",
    "\n",
    "\n",
    "# 데이터 길이 확인\n",
    "assert len(train_history) == len(valid_history), \"train_history와 valid_history의 길이가 다릅니다.\"\n",
    "\n",
    "plot_from=0\n",
    "plt.figure(figsize=(6,6))\n",
    "plt.grid(True)\n",
    "plt.title('Train/Valid Loss History')\n",
    "plt.plot(range(plot_from, len(train_history)), train_history[plot_from:], #x축, y축\n",
    "         range(plot_from, len(valid_history)), valid_history[plot_from:]) \n",
    "# 데이터 차이가 많이 남 -> 학습 잘 안됨. 과적합 발생 가능성 높음\n",
    "plt.legend(['train', 'valid']) # 범례\n",
    "plt.xlabel('Epoch')\n",
    "plt.ylabel('Loss')\n",
    "plt.show()"
   ]
  },
  {
   "cell_type": "code",
   "execution_count": 53,
   "metadata": {},
   "outputs": [
    {
     "name": "stdout",
     "output_type": "stream",
     "text": [
      "test loss: tensor(1.5280)\n"
     ]
    }
   ],
   "source": [
    "test_loss=0\n",
    "y_hat=[]\n",
    "\n",
    "with torch.no_grad():\n",
    "    x_=x2[-1].split(batch_size, dim=0) # 테스트 데이터 배치 사이즈로 나눔\n",
    "    y_=y2[-1].split(batch_size, dim=0)\n",
    "\n",
    "    for x_i, y_i in zip(x_, y_):\n",
    "        y_hat_i=model(x_i)\n",
    "        loss=crit(y_hat_i, y_i.squeeze())\n",
    "\n",
    "        test_loss+=loss\n",
    "        y_hat+=[y_hat_i] \n",
    "\n",
    "test_loss=test_loss/len(x_) # loss값 계산\n",
    "y_hat=torch.cat(y_hat, dim=0) # y_hat을 하나로 합침\n",
    "print('test loss:', test_loss) "
   ]
  },
  {
   "cell_type": "code",
   "execution_count": 56,
   "metadata": {},
   "outputs": [
    {
     "name": "stdout",
     "output_type": "stream",
     "text": [
      "tensor(0.9330)\n"
     ]
    }
   ],
   "source": [
    "correct_cnt=(y2[-1].squeeze()==torch.argmax(y_hat, dim=-1)).sum() # 정답과 예측값이 같은 개수\n",
    "print(correct_cnt/10000)\n"
   ]
  },
  {
   "cell_type": "code",
   "execution_count": 59,
   "metadata": {},
   "outputs": [
    {
     "data": {
      "text/html": [
       "<div>\n",
       "<style scoped>\n",
       "    .dataframe tbody tr th:only-of-type {\n",
       "        vertical-align: middle;\n",
       "    }\n",
       "\n",
       "    .dataframe tbody tr th {\n",
       "        vertical-align: top;\n",
       "    }\n",
       "\n",
       "    .dataframe thead th {\n",
       "        text-align: right;\n",
       "    }\n",
       "</style>\n",
       "<table border=\"1\" class=\"dataframe\">\n",
       "  <thead>\n",
       "    <tr style=\"text-align: right;\">\n",
       "      <th></th>\n",
       "      <th>pred_0</th>\n",
       "      <th>pred_1</th>\n",
       "      <th>pred_2</th>\n",
       "      <th>pred_3</th>\n",
       "      <th>pred_4</th>\n",
       "      <th>pred_5</th>\n",
       "      <th>pred_6</th>\n",
       "      <th>pred_7</th>\n",
       "      <th>pred_8</th>\n",
       "      <th>pred_9</th>\n",
       "    </tr>\n",
       "  </thead>\n",
       "  <tbody>\n",
       "    <tr>\n",
       "      <th>true_0</th>\n",
       "      <td>968</td>\n",
       "      <td>0</td>\n",
       "      <td>4</td>\n",
       "      <td>1</td>\n",
       "      <td>0</td>\n",
       "      <td>0</td>\n",
       "      <td>4</td>\n",
       "      <td>0</td>\n",
       "      <td>3</td>\n",
       "      <td>0</td>\n",
       "    </tr>\n",
       "    <tr>\n",
       "      <th>true_1</th>\n",
       "      <td>0</td>\n",
       "      <td>1117</td>\n",
       "      <td>7</td>\n",
       "      <td>2</td>\n",
       "      <td>0</td>\n",
       "      <td>0</td>\n",
       "      <td>5</td>\n",
       "      <td>0</td>\n",
       "      <td>4</td>\n",
       "      <td>0</td>\n",
       "    </tr>\n",
       "    <tr>\n",
       "      <th>true_2</th>\n",
       "      <td>8</td>\n",
       "      <td>2</td>\n",
       "      <td>1005</td>\n",
       "      <td>2</td>\n",
       "      <td>1</td>\n",
       "      <td>0</td>\n",
       "      <td>9</td>\n",
       "      <td>0</td>\n",
       "      <td>5</td>\n",
       "      <td>0</td>\n",
       "    </tr>\n",
       "    <tr>\n",
       "      <th>true_3</th>\n",
       "      <td>0</td>\n",
       "      <td>0</td>\n",
       "      <td>48</td>\n",
       "      <td>927</td>\n",
       "      <td>0</td>\n",
       "      <td>12</td>\n",
       "      <td>0</td>\n",
       "      <td>1</td>\n",
       "      <td>22</td>\n",
       "      <td>0</td>\n",
       "    </tr>\n",
       "    <tr>\n",
       "      <th>true_4</th>\n",
       "      <td>4</td>\n",
       "      <td>2</td>\n",
       "      <td>15</td>\n",
       "      <td>0</td>\n",
       "      <td>901</td>\n",
       "      <td>0</td>\n",
       "      <td>16</td>\n",
       "      <td>2</td>\n",
       "      <td>5</td>\n",
       "      <td>37</td>\n",
       "    </tr>\n",
       "    <tr>\n",
       "      <th>true_5</th>\n",
       "      <td>12</td>\n",
       "      <td>1</td>\n",
       "      <td>2</td>\n",
       "      <td>21</td>\n",
       "      <td>1</td>\n",
       "      <td>799</td>\n",
       "      <td>32</td>\n",
       "      <td>0</td>\n",
       "      <td>22</td>\n",
       "      <td>2</td>\n",
       "    </tr>\n",
       "    <tr>\n",
       "      <th>true_6</th>\n",
       "      <td>9</td>\n",
       "      <td>3</td>\n",
       "      <td>1</td>\n",
       "      <td>0</td>\n",
       "      <td>3</td>\n",
       "      <td>2</td>\n",
       "      <td>939</td>\n",
       "      <td>0</td>\n",
       "      <td>1</td>\n",
       "      <td>0</td>\n",
       "    </tr>\n",
       "    <tr>\n",
       "      <th>true_7</th>\n",
       "      <td>6</td>\n",
       "      <td>9</td>\n",
       "      <td>121</td>\n",
       "      <td>17</td>\n",
       "      <td>3</td>\n",
       "      <td>0</td>\n",
       "      <td>1</td>\n",
       "      <td>854</td>\n",
       "      <td>6</td>\n",
       "      <td>11</td>\n",
       "    </tr>\n",
       "    <tr>\n",
       "      <th>true_8</th>\n",
       "      <td>3</td>\n",
       "      <td>2</td>\n",
       "      <td>20</td>\n",
       "      <td>7</td>\n",
       "      <td>4</td>\n",
       "      <td>0</td>\n",
       "      <td>14</td>\n",
       "      <td>0</td>\n",
       "      <td>924</td>\n",
       "      <td>0</td>\n",
       "    </tr>\n",
       "    <tr>\n",
       "      <th>true_9</th>\n",
       "      <td>13</td>\n",
       "      <td>7</td>\n",
       "      <td>4</td>\n",
       "      <td>24</td>\n",
       "      <td>22</td>\n",
       "      <td>4</td>\n",
       "      <td>3</td>\n",
       "      <td>2</td>\n",
       "      <td>34</td>\n",
       "      <td>896</td>\n",
       "    </tr>\n",
       "  </tbody>\n",
       "</table>\n",
       "</div>"
      ],
      "text/plain": [
       "        pred_0  pred_1  pred_2  pred_3  pred_4  pred_5  pred_6  pred_7  \\\n",
       "true_0     968       0       4       1       0       0       4       0   \n",
       "true_1       0    1117       7       2       0       0       5       0   \n",
       "true_2       8       2    1005       2       1       0       9       0   \n",
       "true_3       0       0      48     927       0      12       0       1   \n",
       "true_4       4       2      15       0     901       0      16       2   \n",
       "true_5      12       1       2      21       1     799      32       0   \n",
       "true_6       9       3       1       0       3       2     939       0   \n",
       "true_7       6       9     121      17       3       0       1     854   \n",
       "true_8       3       2      20       7       4       0      14       0   \n",
       "true_9      13       7       4      24      22       4       3       2   \n",
       "\n",
       "        pred_8  pred_9  \n",
       "true_0       3       0  \n",
       "true_1       4       0  \n",
       "true_2       5       0  \n",
       "true_3      22       0  \n",
       "true_4       5      37  \n",
       "true_5      22       2  \n",
       "true_6       1       0  \n",
       "true_7       6      11  \n",
       "true_8     924       0  \n",
       "true_9      34     896  "
      ]
     },
     "execution_count": 59,
     "metadata": {},
     "output_type": "execute_result"
    }
   ],
   "source": [
    "import pandas as pd\n",
    "from sklearn.metrics import confusion_matrix\n",
    "\n",
    "df=pd.DataFrame(confusion_matrix(y2[-1], torch.argmax(y_hat, dim=-1)),\n",
    "                index=['true_%d' %i for i in range(10)],\n",
    "                columns=['pred_%d' %i for i in range(10)])\n",
    "df"
   ]
  },
  {
   "cell_type": "code",
   "execution_count": null,
   "metadata": {},
   "outputs": [],
   "source": []
  }
 ],
 "metadata": {
  "kernelspec": {
   "display_name": "base",
   "language": "python",
   "name": "python3"
  },
  "language_info": {
   "codemirror_mode": {
    "name": "ipython",
    "version": 3
   },
   "file_extension": ".py",
   "mimetype": "text/x-python",
   "name": "python",
   "nbconvert_exporter": "python",
   "pygments_lexer": "ipython3",
   "version": "3.12.7"
  }
 },
 "nbformat": 4,
 "nbformat_minor": 2
}

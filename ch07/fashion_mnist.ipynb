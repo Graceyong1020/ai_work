{
 "cells": [
  {
   "cell_type": "code",
   "execution_count": 19,
   "metadata": {},
   "outputs": [],
   "source": [
    "import torch\n",
    "import torchvision\n",
    "from torchvision import models\n",
    "import torchvision.datasets as dsets\n",
    "import torchvision.transforms as transforms \n",
    "from torch.utils.data import Dataset, DataLoader\n",
    "import torch.nn.init\n",
    "import torch.optim as optim\n",
    "import torch.nn.functional as F\n",
    "import torch.nn as nn\n",
    "\n",
    "import matplotlib.pyplot as plt\n",
    "import time"
   ]
  },
  {
   "cell_type": "code",
   "execution_count": 20,
   "metadata": {},
   "outputs": [],
   "source": [
    "#하드웨어 설정\n",
    "\n",
    "device = 'cuda' if torch.cuda.is_available() else 'cpu'\n",
    "\n",
    "torch.manual_seed(777)\n",
    "if device == 'cuda':\n",
    "    torch.cuda.manual_seed_all(777) "
   ]
  },
  {
   "cell_type": "code",
   "execution_count": 21,
   "metadata": {},
   "outputs": [],
   "source": [
    "torch.manual_seed(777)\n",
    "torch.cuda.manual_seed(777)\n",
    "torch.backends.cudnn.enabled = False "
   ]
  },
  {
   "cell_type": "code",
   "execution_count": 22,
   "metadata": {},
   "outputs": [],
   "source": [
    "# 파라미터 설정\n",
    "\n",
    "learning_rate = 0.001\n",
    "training_epochs = 50\n",
    "batch_size = 200"
   ]
  },
  {
   "cell_type": "code",
   "execution_count": 23,
   "metadata": {},
   "outputs": [
    {
     "name": "stdout",
     "output_type": "stream",
     "text": [
      "Downloading http://fashion-mnist.s3-website.eu-central-1.amazonaws.com/train-images-idx3-ubyte.gz\n",
      "Downloading http://fashion-mnist.s3-website.eu-central-1.amazonaws.com/train-images-idx3-ubyte.gz to FashionMNIST_data/FashionMNIST\\raw\\train-images-idx3-ubyte.gz\n"
     ]
    },
    {
     "name": "stderr",
     "output_type": "stream",
     "text": [
      "100%|██████████| 26.4M/26.4M [00:07<00:00, 3.47MB/s]\n"
     ]
    },
    {
     "name": "stdout",
     "output_type": "stream",
     "text": [
      "Extracting FashionMNIST_data/FashionMNIST\\raw\\train-images-idx3-ubyte.gz to FashionMNIST_data/FashionMNIST\\raw\n",
      "\n",
      "Downloading http://fashion-mnist.s3-website.eu-central-1.amazonaws.com/train-labels-idx1-ubyte.gz\n",
      "Downloading http://fashion-mnist.s3-website.eu-central-1.amazonaws.com/train-labels-idx1-ubyte.gz to FashionMNIST_data/FashionMNIST\\raw\\train-labels-idx1-ubyte.gz\n"
     ]
    },
    {
     "name": "stderr",
     "output_type": "stream",
     "text": [
      "100%|██████████| 29.5k/29.5k [00:00<00:00, 114kB/s]\n"
     ]
    },
    {
     "name": "stdout",
     "output_type": "stream",
     "text": [
      "Extracting FashionMNIST_data/FashionMNIST\\raw\\train-labels-idx1-ubyte.gz to FashionMNIST_data/FashionMNIST\\raw\n",
      "\n",
      "Downloading http://fashion-mnist.s3-website.eu-central-1.amazonaws.com/t10k-images-idx3-ubyte.gz\n",
      "Downloading http://fashion-mnist.s3-website.eu-central-1.amazonaws.com/t10k-images-idx3-ubyte.gz to FashionMNIST_data/FashionMNIST\\raw\\t10k-images-idx3-ubyte.gz\n"
     ]
    },
    {
     "name": "stderr",
     "output_type": "stream",
     "text": [
      "100%|██████████| 4.42M/4.42M [00:02<00:00, 1.98MB/s]\n"
     ]
    },
    {
     "name": "stdout",
     "output_type": "stream",
     "text": [
      "Extracting FashionMNIST_data/FashionMNIST\\raw\\t10k-images-idx3-ubyte.gz to FashionMNIST_data/FashionMNIST\\raw\n",
      "\n",
      "Downloading http://fashion-mnist.s3-website.eu-central-1.amazonaws.com/t10k-labels-idx1-ubyte.gz\n",
      "Downloading http://fashion-mnist.s3-website.eu-central-1.amazonaws.com/t10k-labels-idx1-ubyte.gz to FashionMNIST_data/FashionMNIST\\raw\\t10k-labels-idx1-ubyte.gz\n"
     ]
    },
    {
     "name": "stderr",
     "output_type": "stream",
     "text": [
      "100%|██████████| 5.15k/5.15k [00:00<00:00, 2.58MB/s]"
     ]
    },
    {
     "name": "stdout",
     "output_type": "stream",
     "text": [
      "Extracting FashionMNIST_data/FashionMNIST\\raw\\t10k-labels-idx1-ubyte.gz to FashionMNIST_data/FashionMNIST\\raw\n",
      "\n"
     ]
    },
    {
     "name": "stderr",
     "output_type": "stream",
     "text": [
      "\n"
     ]
    }
   ],
   "source": [
    "transforms = transforms.Compose([\n",
    "    transforms.Resize((35, 35)),\n",
    "    transforms.ToTensor()\n",
    "])\n",
    "\n",
    "mnist_train = dsets.FashionMNIST(root='FashionMNIST_data/',\n",
    "                            train=True,\n",
    "                            transform=transforms,\n",
    "                            download=True)\n",
    "minist_test = dsets.FashionMNIST(root='FashionMNIST_data/',\n",
    "                            train=False,\n",
    "                            transform=transforms,\n",
    "                            download=True)"
   ]
  },
  {
   "cell_type": "code",
   "execution_count": 24,
   "metadata": {},
   "outputs": [],
   "source": [
    "train_loader = DataLoader(dataset=mnist_train,\n",
    "                          batch_size=batch_size,\n",
    "                            shuffle=True,\n",
    "                            drop_last=True)\n",
    "test_loader = DataLoader(dataset=minist_test,\n",
    "                            batch_size=batch_size,\n",
    "                                shuffle=False,\n",
    "                                drop_last=True)\n"
   ]
  },
  {
   "cell_type": "code",
   "execution_count": 32,
   "metadata": {},
   "outputs": [],
   "source": [
    "# 모델 생성\n",
    "\n",
    "class Lenet5(torch.nn.Module):\n",
    "  def __init__(self):\n",
    "    super(Lenet5,self).__init__()\n",
    "\n",
    "    self.l1=torch.nn.Conv2d(1,6,kernel_size=5,padding=0,stride=1)\n",
    "    self.x1=torch.nn.Tanh()\n",
    "    self.l2=torch.nn.AvgPool2d(kernel_size=2,padding=0,stride=2)\n",
    "\n",
    "    self.l3=torch.nn.Conv2d(6,16,kernel_size=5,padding=0,stride=1)\n",
    "    self.x2=torch.nn.Tanh()\n",
    "    self.l4=torch.nn.AvgPool2d(kernel_size=2,padding=0,stride=2)\n",
    "\n",
    "    self.l5=torch.nn.Flatten()\n",
    "\n",
    "    self.l6=torch.nn.Linear(16*5*5,120,bias=True)\n",
    "    self.x3=torch.nn.Tanh()\n",
    "\n",
    "    self.l7=torch.nn.Linear(120,84,bias=True)\n",
    "    self.x4=torch.nn.Tanh()\n",
    "\n",
    "    self.l8=torch.nn.Linear(84,10,bias=True)\n",
    "  \n",
    "\n",
    "\n",
    "  def forward(self,x):\n",
    "    out=self.l1(x)\n",
    "    out=self.x1(out)\n",
    "    out=self.l2(out)\n",
    "    out=self.l3(out)\n",
    "    out=self.x2(out)\n",
    "    out=self.l4(out)\n",
    "\n",
    "    out=out.view(out.size(0),-1)\n",
    "\n",
    "    out=self.l6(out)\n",
    "    out=self.x3(out)\n",
    "    out=self.l7(out)\n",
    "    out=self.x4(out)\n",
    "    out=self.l8(out)\n",
    "    return out"
   ]
  },
  {
   "cell_type": "code",
   "execution_count": 33,
   "metadata": {},
   "outputs": [],
   "source": [
    "model = Lenet5().to(device) "
   ]
  },
  {
   "cell_type": "code",
   "execution_count": 36,
   "metadata": {},
   "outputs": [],
   "source": [
    "# 모델 최적화\n",
    "\n",
    "criterion = torch.nn.CrossEntropyLoss()\n",
    "\n",
    "optimizer = torch.optim.Adam(model.parameters(), lr=learning_rate)"
   ]
  },
  {
   "cell_type": "code",
   "execution_count": 38,
   "metadata": {},
   "outputs": [
    {
     "name": "stdout",
     "output_type": "stream",
     "text": [
      "Learning started. It takes some time.\n",
      "Epoch: 1, Cost: 0.3261\n",
      "Epoch: 2, Cost: 0.3127\n",
      "Epoch: 3, Cost: 0.3023\n",
      "Epoch: 4, Cost: 0.2938\n",
      "Epoch: 5, Cost: 0.2852\n",
      "Epoch: 6, Cost: 0.2760\n",
      "Epoch: 7, Cost: 0.2699\n",
      "Epoch: 8, Cost: 0.2653\n",
      "Epoch: 9, Cost: 0.2582\n",
      "Epoch: 10, Cost: 0.2500\n",
      "Epoch: 11, Cost: 0.2437\n",
      "Epoch: 12, Cost: 0.2390\n",
      "Epoch: 13, Cost: 0.2324\n",
      "Epoch: 14, Cost: 0.2278\n",
      "Epoch: 15, Cost: 0.2222\n",
      "Epoch: 16, Cost: 0.2186\n",
      "Epoch: 17, Cost: 0.2127\n",
      "Epoch: 18, Cost: 0.2069\n",
      "Epoch: 19, Cost: 0.2019\n",
      "Epoch: 20, Cost: 0.1979\n",
      "Epoch: 21, Cost: 0.1931\n",
      "Epoch: 22, Cost: 0.1870\n",
      "Epoch: 23, Cost: 0.1841\n",
      "Epoch: 24, Cost: 0.1804\n",
      "Epoch: 25, Cost: 0.1750\n",
      "Epoch: 26, Cost: 0.1708\n",
      "Epoch: 27, Cost: 0.1673\n",
      "Epoch: 28, Cost: 0.1648\n",
      "Epoch: 29, Cost: 0.1587\n",
      "Epoch: 30, Cost: 0.1542\n",
      "Epoch: 31, Cost: 0.1514\n",
      "Epoch: 32, Cost: 0.1461\n",
      "Epoch: 33, Cost: 0.1454\n",
      "Epoch: 34, Cost: 0.1401\n",
      "Epoch: 35, Cost: 0.1352\n",
      "Epoch: 36, Cost: 0.1312\n",
      "Epoch: 37, Cost: 0.1272\n",
      "Epoch: 38, Cost: 0.1260\n",
      "Epoch: 39, Cost: 0.1223\n",
      "Epoch: 40, Cost: 0.1194\n",
      "Epoch: 41, Cost: 0.1157\n",
      "Epoch: 42, Cost: 0.1126\n",
      "Epoch: 43, Cost: 0.1094\n",
      "Epoch: 44, Cost: 0.1065\n",
      "Epoch: 45, Cost: 0.1036\n",
      "Epoch: 46, Cost: 0.1012\n",
      "Epoch: 47, Cost: 0.0972\n",
      "Epoch: 48, Cost: 0.0948\n",
      "Epoch: 49, Cost: 0.0901\n",
      "Epoch: 50, Cost: 0.0874\n",
      "Learning finished.\n"
     ]
    }
   ],
   "source": [
    "# 모델 학습\n",
    "total_batch = len(train_loader)\n",
    "print('Learning started. It takes some time.')\n",
    "for epoch in range(training_epochs):\n",
    "    avg_cost = 0\n",
    "\n",
    "    for X, Y in train_loader:\n",
    "        X = X.to(device)\n",
    "        Y = Y.to(device)\n",
    "        hypothesis = model(X)\n",
    "        cost = criterion(hypothesis, Y)\n",
    "\n",
    "        optimizer.zero_grad()\n",
    "        cost.backward()\n",
    "        optimizer.step()\n",
    "\n",
    "        avg_cost += cost / total_batch\n",
    "\n",
    "    print(f'Epoch: {epoch + 1}, Cost: {avg_cost.item():.4f}')\n",
    "\n",
    "print('Learning finished.')"
   ]
  },
  {
   "cell_type": "code",
   "execution_count": 39,
   "metadata": {},
   "outputs": [],
   "source": [
    "# 모델 테스트\n",
    "\n",
    "accuracy = 0\n",
    "total_batch = len(test_loader)\n",
    "\n",
    "with torch.no_grad(): # 학습을 진행하지 않을 것이므로 torch.no_grad()를 사용\n",
    "    model.eval() # 모델을 평가 상태로 지정"
   ]
  },
  {
   "cell_type": "code",
   "execution_count": 41,
   "metadata": {},
   "outputs": [],
   "source": [
    "for X, Y in test_loader:\n",
    "    X = X.to(device)\n",
    "    Y = Y.to(device)\n",
    "\n",
    "    prediction = model(X)\n",
    "    correct_prediction = torch.argmax(prediction, 1) == Y\n"
   ]
  },
  {
   "cell_type": "code",
   "execution_count": 42,
   "metadata": {},
   "outputs": [],
   "source": [
    "x = torch.rand(3,3)\n",
    "max_x = torch.max(x)\n",
    "max_x_index = torch.argmax(x)"
   ]
  },
  {
   "cell_type": "code",
   "execution_count": 43,
   "metadata": {},
   "outputs": [],
   "source": [
    "accuracy = correct_prediction.float().mean()"
   ]
  },
  {
   "cell_type": "code",
   "execution_count": 44,
   "metadata": {},
   "outputs": [
    {
     "name": "stdout",
     "output_type": "stream",
     "text": [
      "accuracy: 0.01759999990463257\n"
     ]
    }
   ],
   "source": [
    "print('accuracy:', accuracy.item()/total_batch)"
   ]
  },
  {
   "cell_type": "code",
   "execution_count": 45,
   "metadata": {},
   "outputs": [
    {
     "name": "stdout",
     "output_type": "stream",
     "text": [
      "tensor([0.6163])\n",
      "0.6163243651390076\n"
     ]
    }
   ],
   "source": [
    "x = torch.rand(1)\n",
    "print(x)\n",
    "print(x.item())"
   ]
  },
  {
   "cell_type": "code",
   "execution_count": null,
   "metadata": {},
   "outputs": [],
   "source": []
  }
 ],
 "metadata": {
  "kernelspec": {
   "display_name": "base",
   "language": "python",
   "name": "python3"
  },
  "language_info": {
   "codemirror_mode": {
    "name": "ipython",
    "version": 3
   },
   "file_extension": ".py",
   "mimetype": "text/x-python",
   "name": "python",
   "nbconvert_exporter": "python",
   "pygments_lexer": "ipython3",
   "version": "3.12.7"
  }
 },
 "nbformat": 4,
 "nbformat_minor": 2
}

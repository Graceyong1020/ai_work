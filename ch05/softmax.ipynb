{
 "cells": [
  {
   "cell_type": "code",
   "execution_count": 1,
   "metadata": {},
   "outputs": [],
   "source": [
    "import torch\n",
    "import torch.nn.functional as F"
   ]
  },
  {
   "cell_type": "code",
   "execution_count": 3,
   "metadata": {},
   "outputs": [
    {
     "name": "stdout",
     "output_type": "stream",
     "text": [
      "tensor([0.0900, 0.2447, 0.6652])\n",
      "tensor(1.)\n"
     ]
    }
   ],
   "source": [
    "z=torch.FloatTensor([1,2,3])\n",
    "y_hat=F.softmax(z, dim=0) #1차원 배열\n",
    "print(y_hat)\n",
    "print(y_hat.sum()) #확률의 합은 1"
   ]
  },
  {
   "cell_type": "code",
   "execution_count": 7,
   "metadata": {},
   "outputs": [
    {
     "name": "stdout",
     "output_type": "stream",
     "text": [
      "tensor([[0.3306, 0.0485, 0.5048, 0.6521, 0.7716],\n",
      "        [0.2626, 0.8380, 0.4363, 0.7433, 0.6211],\n",
      "        [0.9159, 0.0565, 0.3596, 0.1083, 0.8388]], requires_grad=True)\n",
      "tensor([[0.1701, 0.1283, 0.2025, 0.2346, 0.2644],\n",
      "        [0.1425, 0.2534, 0.1696, 0.2305, 0.2040],\n",
      "        [0.2969, 0.1257, 0.1702, 0.1324, 0.2748]], grad_fn=<SoftmaxBackward0>)\n",
      "tensor([1., 1., 1.], grad_fn=<SumBackward1>)\n"
     ]
    }
   ],
   "source": [
    "z=torch.rand(3,5, requires_grad=True) #3,5의 2차원 배열\n",
    "print(z)\n",
    "y_hat=F.softmax(z, dim=1) #1차원 배열\n",
    "print(y_hat)\n",
    "print(y_hat.sum(dim=1)) #확률의 합은 1"
   ]
  },
  {
   "cell_type": "code",
   "execution_count": 18,
   "metadata": {},
   "outputs": [
    {
     "name": "stdout",
     "output_type": "stream",
     "text": [
      "tensor([3, 3, 0])\n",
      "tensor([[0.1701, 0.1283, 0.2025, 0.2346, 0.2644],\n",
      "        [0.1425, 0.2534, 0.1696, 0.2305, 0.2040],\n",
      "        [0.2969, 0.1257, 0.1702, 0.1324, 0.2748]], grad_fn=<SoftmaxBackward0>)\n",
      "tensor([[0., 0., 0., 0., 0.],\n",
      "        [0., 0., 0., 0., 0.],\n",
      "        [0., 0., 0., 0., 0.]])\n",
      "tensor([[3],\n",
      "        [3],\n",
      "        [0]])\n"
     ]
    }
   ],
   "source": [
    "y=torch.randint(5,(3,)).long() #3개의 정수 랜덤값 (0~4)\n",
    "print(y)\n",
    "print(y_hat)\n",
    "y_one_hot=torch.zeros_like(y_hat)\n",
    "print(y_one_hot) # 처음은 0으로 초기화\n",
    "print(y.unsqueeze(1)) #1차원 배열을 2차원 배열로 변환"
   ]
  },
  {
   "cell_type": "code",
   "execution_count": null,
   "metadata": {},
   "outputs": [],
   "source": []
  },
  {
   "cell_type": "code",
   "execution_count": null,
   "metadata": {},
   "outputs": [],
   "source": []
  }
 ],
 "metadata": {
  "kernelspec": {
   "display_name": "base",
   "language": "python",
   "name": "python3"
  },
  "language_info": {
   "codemirror_mode": {
    "name": "ipython",
    "version": 3
   },
   "file_extension": ".py",
   "mimetype": "text/x-python",
   "name": "python",
   "nbconvert_exporter": "python",
   "pygments_lexer": "ipython3",
   "version": "3.12.7"
  }
 },
 "nbformat": 4,
 "nbformat_minor": 2
}
